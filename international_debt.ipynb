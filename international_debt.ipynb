{
 "cells": [
  {
   "cell_type": "markdown",
   "metadata": {},
   "source": [
    "![](images/billetes.jpeg)\n",
    "\n",
    "\n",
    "Los seres humanos no solo adquieren deudas para cubrir necesidades básicas. Los países también pueden endeudarse como una forma de gestionar su economía. Por ejemplo, invertir en infraestructura representa un gasto elevado, pero es fundamental para garantizar una buena calidad de vida a los ciudadanos. El Banco Mundial es una de las instituciones que otorgan préstamos a los países.\n",
    "\n",
    "En este proyecto, vas a analizar datos sobre deuda internacional recopilados por el Banco Mundial. El conjunto de datos incluye información sobre la cantidad de deuda (en dólares estadounidenses) que deben los países en desarrollo, clasificada en varias categorías. Tu tarea será responder las siguientes preguntas:\n",
    "\n",
    "- ¿Cuántos países diferentes aparecen en la base de datos?\n",
    "- ¿Qué país tiene la mayor cantidad de deuda?\n",
    "- ¿Qué país ha realizado los pagos más bajos?\n",
    "\n",
    "A continuación, se describe la tabla con la que vas a trabajar:\n",
    "\n",
    "## Tabla `international_debt`\n",
    "\n",
    "| Columna         | Descripción                                                       | Tipo de dato |\n",
    "|-----------------|-------------------------------------------------------------------|--------------|\n",
    "| country_name     | Nombre del país                                                   | `varchar`    |\n",
    "| country_code     | Código que representa al país                                     | `varchar`    |\n",
    "| indicator_name   | Descripción del indicador de deuda                                | `varchar`    |\n",
    "| indicator_code   | Código que representa el indicador de deuda                       | `varchar`    |\n",
    "| debt             | Valor del indicador de deuda para el país (en dólares actuales)  | `float`      |\n",
    "\n",
    "Deberás realizar consultas SQL para responder las tres preguntas mencionadas.\n"
   ]
  },
  {
   "cell_type": "code",
   "execution_count": null,
   "metadata": {},
   "outputs": [
    {
     "name": "stdout",
     "output_type": "stream",
     "text": [
      "Columnas: ['country_name', 'country_code', 'indicator_name', 'indicator_code', 'debt']\n",
      "Total filas: 100\n",
      "Valores únicos en 'country_name': 6\n",
      "Ejemplo de valores: ['Afghanistan' 'Albania' 'Algeria' 'Angola' 'Armenia' 'Azerbaijan']\n"
     ]
    }
   ],
   "source": [
    "import pandas as pd\n",
    "\n",
    "# Cargar CSV\n",
    "df = pd.read_csv(\"data/international_debt.csv\", encoding='utf-8', sep=',', on_bad_lines='warn')\n",
    "\n",
    "# Verificar\n",
    "print(\"Columnas:\", df.columns.tolist())\n",
    "print(\"Total filas:\", len(df))\n",
    "print(\"Valores únicos en 'country_name':\", df[\"country_name\"].nunique())\n",
    "print(\"Ejemplo de valores:\", df[\"country_name\"].unique()[:10])  # Muestra 10 países\n"
   ]
  },
  {
   "cell_type": "code",
   "execution_count": 25,
   "metadata": {},
   "outputs": [
    {
     "name": "stdout",
     "output_type": "stream",
     "text": [
      "\n",
      "Resultado:\n",
      "→ País: Angola\n",
      "→ Deuda total: $71,368,842,500.10\n"
     ]
    }
   ],
   "source": [
    "highest_debt_country = (\n",
    "    df.groupby('country_name')['debt']\n",
    "    .sum()\n",
    "    .nlargest(1)\n",
    "    .reset_index(name='total_debt')\n",
    ")\n",
    "\n",
    "country = highest_debt_country.iloc[0]['country_name']\n",
    "debt = highest_debt_country.iloc[0]['total_debt']\n",
    "print(f\"\\nResultado:\")\n",
    "print(f\"→ País: {country}\")\n",
    "print(f\"→ Deuda total: ${debt:,.2f}\")"
   ]
  },
  {
   "cell_type": "code",
   "execution_count": 28,
   "metadata": {},
   "outputs": [
    {
     "name": "stdout",
     "output_type": "stream",
     "text": [
      "country_name                                                      indicator_name  lowest_repayment\n",
      " Afghanistan Principal repayments on external debt, long-term (AMT, current US$)       100847181.9\n"
     ]
    }
   ],
   "source": [
    "lowest_principal_repayment = (\n",
    "    df[df['indicator_code'] == 'DT.AMT.DLXF.CD']  # Filtra por el código de indicador\n",
    "    .groupby(['country_name', 'indicator_name'])['debt']  # Agrupa por país e indicador\n",
    "    .min()  # Obtiene el valor mínimo de deuda\n",
    "    .reset_index(name='lowest_repayment')  # Convierte a DataFrame y renombra columna\n",
    "    .sort_values('lowest_repayment')  # Ordena de menor a mayor\n",
    "    .head(1)  # Toma solo el primer registro (el más bajo)\n",
    ")\n",
    "\n",
    "# Mostrar solo la tabla resultante\n",
    "print(lowest_principal_repayment.to_string(index=False))\n"
   ]
  }
 ],
 "metadata": {
  "kernelspec": {
   "display_name": "Python 3",
   "language": "python",
   "name": "python3"
  },
  "language_info": {
   "codemirror_mode": {
    "name": "ipython",
    "version": 3
   },
   "file_extension": ".py",
   "mimetype": "text/x-python",
   "name": "python",
   "nbconvert_exporter": "python",
   "pygments_lexer": "ipython3",
   "version": "3.11.3"
  }
 },
 "nbformat": 4,
 "nbformat_minor": 2
}
